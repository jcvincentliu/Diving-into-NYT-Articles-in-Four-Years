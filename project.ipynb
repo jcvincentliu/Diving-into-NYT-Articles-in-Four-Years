{
  "cells": [
    {
      "cell_type": "markdown",
      "metadata": {
        "id": "view-in-github",
        "colab_type": "text"
      },
      "source": [
        "<a href=\"https://colab.research.google.com/github/jcvincentliu/Diving-into-NYT-Articles-in-Four-Years/blob/main/project.ipynb\" target=\"_parent\"><img src=\"https://colab.research.google.com/assets/colab-badge.svg\" alt=\"Open In Colab\"/></a>"
      ]
    },
    {
      "cell_type": "markdown",
      "metadata": {
        "id": "gUAxn4DPBQQZ"
      },
      "source": [
        "### **MACS 31300: Final Project - Public Policies and Public Opinions Behind New York Times Articles in Four Years**\n",
        "####  --- Uncovering the myths through the use of natural language processing, clustering, and deep learning\n",
        "\n",
        "In this project, I dug into how the magnitude of crime-related news among public in the last 50 years by exploring the [New York Times Archives data](https://developer.nytimes.com/). As we can tell from the official crime data, on a nationwide level, crime levels rose in the 70s and 80s, peaked in the early 90s and have been dropping since mid-90s. This is especially the pattern for violent crimes. Public policies, however, did not quite fit into this pattern that we saw important crime prevention policies becoming the law all the time and that with lower crime levels, the trend was fighting harder on crimes. One explanation in the literature is changes in crime policies are in responce with the public opinion and attitudes on crimes in lieu of what is really going on. The approach highlights the political influence of public opinion while giving attention to how the electrocal system works in the country. I am intersted in knowing about the validity of the latter explantion. \n",
        "\n",
        "The project was made a possibility with a mix of methods, including natural language processing and clustering. I started with cleaning the data, applying necessary transformations, moving to exploratory analysis of the most salient tuples in each decade, and ending with using machine learning to fina out the best model.   "
      ]
    },
    {
      "cell_type": "markdown",
      "metadata": {
        "id": "YAWjueDgBQQi"
      },
      "source": [
        "### **Project Description**\n",
        "\n",
        "---\n",
        "\n",
        "\n",
        "\n",
        "The whole project will be divided into five phases. In phases one and two, I scrape the data from the New York Times archive database and perform data wrangling including cleaning the text data, tokenizing them, and generating concatenated tables. I will be giving my attentions to NYT articles in four specific years, 1971, 1989, 2010, and 2020, each of which is represented with an influential criminal justice policy/legislation. In phrase three, I did explorative data analysis (EDA) by looking at most frequent words and bigrams and creating visualizations. In phrase four, I use clustering techniques to divide tokens into groups and visualizing the grouping. Lastly, I will project the groups using deep learning methods to create interactive visualizations. \n",
        "\n",
        "Starting with loading `request`, `nltk`, `tensorflow`, `sklearn`, and other libraries: "
      ]
    },
    {
      "cell_type": "code",
      "execution_count": null,
      "metadata": {
        "colab": {
          "base_uri": "https://localhost:8080/"
        },
        "id": "KzH6tPubBQQj",
        "outputId": "9ec9f63b-d61e-4a9d-c43a-f390879a41f5"
      },
      "outputs": [
        {
          "output_type": "stream",
          "name": "stdout",
          "text": [
            "[nltk_data] Downloading package stopwords to /root/nltk_data...\n",
            "[nltk_data]   Package stopwords is already up-to-date!\n",
            "[nltk_data] Downloading package stopwords to /root/nltk_data...\n",
            "[nltk_data]   Package stopwords is already up-to-date!\n"
          ]
        }
      ],
      "source": [
        "import nltk\n",
        "nltk.download('stopwords')\n",
        "import tensorflow as tf\n",
        "import numpy as np\n",
        "import pandas as pd\n",
        "from sklearn import model_selection\n",
        "from sklearn.preprocessing import LabelEncoder \n",
        "from nltk.corpus import stopwords\n",
        "nltk.download(\"stopwords\") #provides list of english stopwords\n",
        "stop = stopwords.words('english')  \n",
        "\n",
        "import requests\n",
        "import json\n",
        "import seaborn as sns\n",
        "import re\n",
        "import os\n",
        "import matplotlib.pyplot as plt\n",
        "%matplotlib inline\n",
        "\n",
        "plt.style.use('ggplot')"
      ]
    },
    {
      "cell_type": "code",
      "source": [
        "os.getcwd() # get current directory, shall be deleted later   see https://note.nkmk.me/en/python-os-getcwd-chdir/\n"
      ],
      "metadata": {
        "id": "r7ySIoo7BcFB",
        "colab": {
          "base_uri": "https://localhost:8080/",
          "height": 36
        },
        "outputId": "dd37db3b-7b8e-4599-da14-e96907b4f8cf"
      },
      "execution_count": null,
      "outputs": [
        {
          "output_type": "execute_result",
          "data": {
            "text/plain": [
              "'/'"
            ],
            "application/vnd.google.colaboratory.intrinsic+json": {
              "type": "string"
            }
          },
          "metadata": {},
          "execution_count": 64
        }
      ]
    },
    {
      "cell_type": "code",
      "source": [
        "os.chdir(\"/..\") # delete later"
      ],
      "metadata": {
        "id": "jT9cKLBBqjdS"
      },
      "execution_count": null,
      "outputs": []
    },
    {
      "cell_type": "markdown",
      "metadata": {
        "id": "RtD0YAH_BQQm"
      },
      "source": [
        "#### Part I: Gathering Data Through Web Scraping (Preliminary Data Collection)\n",
        "---\n",
        "\n",
        "The codes are adapted from a [Hackaton competition on Kaggle](https://www.kaggle.com/code/tumanovalexander/nyt-dataset-hackaton/notebook). Since the original scope of my analysis was all articles published by New York Times between 1960-2020, I scraped each year's data and concatenated them into one large data frame.   "
      ]
    },
    {
      "cell_type": "code",
      "execution_count": null,
      "metadata": {
        "id": "b6lLDRALBQQn"
      },
      "outputs": [],
      "source": [
        "df_archieve = {}\n",
        "\n",
        "for year in range(1960, 2021):\n",
        "    archieve = []\n",
        "    for month in range(1, 13):\n",
        "        articles_request = requests.get(f'https://api.nytimes.com/svc/archive/v1/{year}/{month}.json?api-key=8Aekv3zl5FZVAoZwAGfwAn4BO1ruYxh2')\n",
        "        if articles_request.ok:\n",
        "            articles_content = json.loads(articles_request.text)\n",
        "            number_of_news_items = len(articles_content['response']['docs'])\n",
        "\n",
        "            for i in range(number_of_news_items):\n",
        "                if 'abstract' in articles_content['response']['docs'][i].keys():\n",
        "                    fragment_abstract = articles_content['response']['docs'][i]['abstract']\n",
        "                    fragment_headline = articles_content['response']['docs'][i]['headline']['main']\n",
        "                    if fragment_abstract or fragment_headline:\n",
        "                        fragment = fragment_abstract + ' ' + fragment_headline\n",
        "                    archieve.append(fragment)\n",
        "                    \n",
        "    df_archieve = pd.DataFrame(data=archieve, index=np.full_like(range(len(archieve)), year)).reset_index()\n",
        "    df_archieve.rename(columns={'index': 'year', 0: 'sentence'}, inplace=True)\n",
        "    df_archieve.to_csv(f'datasets\\df_{year}.csv')"
      ]
    },
    {
      "cell_type": "code",
      "execution_count": null,
      "metadata": {
        "id": "vVHNFf4DBQQo"
      },
      "outputs": [],
      "source": [
        "year_archieves = pd.DataFrame()\n",
        "\n",
        "for year in range(1960, 2021):\n",
        "    df = pd.read_csv(f'datasets\\df_{year}.csv')\n",
        "    year_archieves = pd.concat([year_archieves, df])"
      ]
    },
    {
      "cell_type": "markdown",
      "metadata": {
        "id": "-qM2RB-JBQQo"
      },
      "source": [
        "I saved the data into my local environment.\n",
        "\n"
      ]
    },
    {
      "cell_type": "code",
      "execution_count": null,
      "metadata": {
        "id": "Iuy8boI-BQQt"
      },
      "outputs": [],
      "source": [
        "year_archieves.to_csv('Total Archives.csv')"
      ]
    },
    {
      "cell_type": "markdown",
      "source": [
        "#### Part II: Cleaning the Text Data\n",
        "---\n",
        "\n",
        "Loading the data of years 1971, 2989, 2010, and 2020:"
      ],
      "metadata": {
        "id": "8m00UDFGR2KE"
      }
    },
    {
      "cell_type": "code",
      "source": [
        "from google.colab import files\n",
        "uploaded = files.upload()"
      ],
      "metadata": {
        "colab": {
          "resources": {
            "http://localhost:8080/nbextensions/google.colab/files.js": {
              "data": "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",
              "ok": true,
              "headers": [
                [
                  "content-type",
                  "application/javascript"
                ]
              ],
              "status": 200,
              "status_text": ""
            }
          },
          "base_uri": "https://localhost:8080/",
          "height": 178
        },
        "id": "hZCjkzdVy5D-",
        "outputId": "ba978ef5-8a43-4d62-c1e8-033d0b4b74c7"
      },
      "execution_count": null,
      "outputs": [
        {
          "output_type": "display_data",
          "data": {
            "text/plain": [
              "<IPython.core.display.HTML object>"
            ],
            "text/html": [
              "\n",
              "     <input type=\"file\" id=\"files-d5ac38e0-be33-4ef4-8169-88d03f466235\" name=\"files[]\" multiple disabled\n",
              "        style=\"border:none\" />\n",
              "     <output id=\"result-d5ac38e0-be33-4ef4-8169-88d03f466235\">\n",
              "      Upload widget is only available when the cell has been executed in the\n",
              "      current browser session. Please rerun this cell to enable.\n",
              "      </output>\n",
              "      <script src=\"/nbextensions/google.colab/files.js\"></script> "
            ]
          },
          "metadata": {}
        },
        {
          "output_type": "stream",
          "name": "stdout",
          "text": [
            "Saving df_1971.csv to df_1971.csv\n",
            "Saving df_1989.csv to df_1989.csv\n",
            "Saving df_2010.csv to df_2010.csv\n",
            "Saving df_2020.csv to df_2020.csv\n"
          ]
        }
      ]
    },
    {
      "cell_type": "code",
      "source": [
        "NYT_1971 = pd.read_csv(\"df_1971.csv\") # Beginning of war on drug: https://www.britannica.com/topic/war-on-drugs\n",
        "\n",
        "NYT_1989 = pd.read_csv(\"df_1989.csv\") # influential Connor vs Graham\n",
        "\n",
        "NYT_2010 = pd.read_csv(\"df_2010.csv\") # the peak of incarceration counts in the nation, see the graph on https://www.prisonpolicy.org/profiles/US.html#time\n",
        "\n",
        "NYT_2020 = pd.read_csv(\"df_2020.csv\") # Killing of George Floyd"
      ],
      "metadata": {
        "id": "2WJRlj29ikOZ"
      },
      "execution_count": null,
      "outputs": []
    },
    {
      "cell_type": "markdown",
      "source": [
        "I created a function that does five things: stripping each sentence into strings, converting words into lower case, removing stopwords, punctuations, and numbers, processing missing data, and reformatting `year` as a factor/categorical variable. I applied the function to four datasets."
      ],
      "metadata": {
        "id": "-mS0U68KsrUP"
      }
    },
    {
      "cell_type": "code",
      "source": [
        "def clean_data(NYT_df):\n",
        "  NYT_df.drop(columns=['Unnamed: 0'], inplace=True)\n",
        "  NYT_df['sentence processed'] = NYT_df[\"sentence\"].str.lower()\n",
        "  NYT_df['sentence processed'] = NYT_df['sentence processed'].apply(lambda x: re.sub(r'\\d+', '', x)) # remove all the numbers\n",
        "  NYT_df['sentence processed'] = NYT_df['sentence processed'].apply(lambda x: re.compile(r'<[^>]+>').sub(\" \", x))\n",
        "  NYT_df['sentence processed'] = NYT_df['sentence processed'].apply(lambda x: re.sub(r'[^\\w\\s]',' ',x))\n",
        "  NYT_df['sentence processed'] = NYT_df['sentence processed'].apply(lambda x: ' '.join([word for word in x.split() if word not in (stop)])) # remove stop words\n",
        "  NYT_df['sentence processed'] = NYT_df[\"sentence processed\"].fillna(\"fillna\")\n",
        "  NYT_df[\"year\"] = NYT_df[\"year\"].astype(\"category\")\n",
        "  return NYT_df"
      ],
      "metadata": {
        "id": "ibzjK287-tdW"
      },
      "execution_count": null,
      "outputs": []
    },
    {
      "cell_type": "code",
      "source": [
        "NYT_1971 = clean_data(NYT_1971)\n",
        "NYT_1989 = clean_data(NYT_1989)\n",
        "NYT_2010 = clean_data(NYT_2010)\n",
        "NYT_2020 = clean_data(NYT_2020)\n"
      ],
      "metadata": {
        "id": "UqtdaMfg-8IL"
      },
      "execution_count": null,
      "outputs": []
    },
    {
      "cell_type": "markdown",
      "source": [
        "By inspecting the first five rows of the dataset `NYT_1971`, I was able to grasp a sense of what my data looks like. This is important for future analysis. I also realized that all variables with the exception of `year` are in the pandas object type.   "
      ],
      "metadata": {
        "id": "WLM4D0jDu1LV"
      }
    },
    {
      "cell_type": "code",
      "source": [
        "NYT_1971.head()"
      ],
      "metadata": {
        "colab": {
          "base_uri": "https://localhost:8080/",
          "height": 206
        },
        "id": "V4NUQdSp4vSH",
        "outputId": "35effb70-e34e-4fb7-aea1-e1b8ca79a724"
      },
      "execution_count": null,
      "outputs": [
        {
          "output_type": "execute_result",
          "data": {
            "text/plain": [
              "   year                                           sentence  \\\n",
              "0  1971  A Moursund Jr lr on T Winner's Dec 22 (32:4) l...   \n",
              "1  1971  Amer Gas Assn repts gas utility and pipeline i...   \n",
              "2  1971  Dr Spock lr disputes Prof Bickel Dec 21 Op-Ed ...   \n",
              "3  1971  Northfield Savings Bank begins operation under...   \n",
              "4  1971  NYS Health Dept repts 638,077 children, 26.4% ...   \n",
              "\n",
              "                                  sentence processed  \\\n",
              "0  moursund jr lr winner dec lr disputes winner s...   \n",
              "1  amer gas assn repts gas utility pipeline indus...   \n",
              "2  dr spock lr disputes prof bickel dec op ed art...   \n",
              "3  northfield savings bank begins operation new n...   \n",
              "4  nys health dept repts children population aged...   \n",
              "\n",
              "                                  sentence tokenized  \\\n",
              "0  [moursund, jr, lr, winner, dec, lr, disputes, ...   \n",
              "1  [amer, gas, assn, repts, gas, utility, pipelin...   \n",
              "2  [dr, spock, lr, disputes, prof, bickel, dec, o...   \n",
              "3  [northfield, savings, bank, begins, operation,...   \n",
              "4  [nys, health, dept, repts, children, populatio...   \n",
              "\n",
              "                                  sentence bigrammed  \n",
              "0  [(moursund, jr), (jr, lr), (lr, winner), (winn...  \n",
              "1  [(amer, gas), (gas, assn), (assn, repts), (rep...  \n",
              "2  [(dr, spock), (spock, lr), (lr, disputes), (di...  \n",
              "3  [(northfield, savings), (savings, bank), (bank...  \n",
              "4  [(nys, health), (health, dept), (dept, repts),...  "
            ],
            "text/html": [
              "\n",
              "  <div id=\"df-af88a2a5-a8f7-4472-b2e3-be01da2676c1\">\n",
              "    <div class=\"colab-df-container\">\n",
              "      <div>\n",
              "<style scoped>\n",
              "    .dataframe tbody tr th:only-of-type {\n",
              "        vertical-align: middle;\n",
              "    }\n",
              "\n",
              "    .dataframe tbody tr th {\n",
              "        vertical-align: top;\n",
              "    }\n",
              "\n",
              "    .dataframe thead th {\n",
              "        text-align: right;\n",
              "    }\n",
              "</style>\n",
              "<table border=\"1\" class=\"dataframe\">\n",
              "  <thead>\n",
              "    <tr style=\"text-align: right;\">\n",
              "      <th></th>\n",
              "      <th>year</th>\n",
              "      <th>sentence</th>\n",
              "      <th>sentence processed</th>\n",
              "      <th>sentence tokenized</th>\n",
              "      <th>sentence bigrammed</th>\n",
              "    </tr>\n",
              "  </thead>\n",
              "  <tbody>\n",
              "    <tr>\n",
              "      <th>0</th>\n",
              "      <td>1971</td>\n",
              "      <td>A Moursund Jr lr on T Winner's Dec 22 (32:4) l...</td>\n",
              "      <td>moursund jr lr winner dec lr disputes winner s...</td>\n",
              "      <td>[moursund, jr, lr, winner, dec, lr, disputes, ...</td>\n",
              "      <td>[(moursund, jr), (jr, lr), (lr, winner), (winn...</td>\n",
              "    </tr>\n",
              "    <tr>\n",
              "      <th>1</th>\n",
              "      <td>1971</td>\n",
              "      <td>Amer Gas Assn repts gas utility and pipeline i...</td>\n",
              "      <td>amer gas assn repts gas utility pipeline indus...</td>\n",
              "      <td>[amer, gas, assn, repts, gas, utility, pipelin...</td>\n",
              "      <td>[(amer, gas), (gas, assn), (assn, repts), (rep...</td>\n",
              "    </tr>\n",
              "    <tr>\n",
              "      <th>2</th>\n",
              "      <td>1971</td>\n",
              "      <td>Dr Spock lr disputes Prof Bickel Dec 21 Op-Ed ...</td>\n",
              "      <td>dr spock lr disputes prof bickel dec op ed art...</td>\n",
              "      <td>[dr, spock, lr, disputes, prof, bickel, dec, o...</td>\n",
              "      <td>[(dr, spock), (spock, lr), (lr, disputes), (di...</td>\n",
              "    </tr>\n",
              "    <tr>\n",
              "      <th>3</th>\n",
              "      <td>1971</td>\n",
              "      <td>Northfield Savings Bank begins operation under...</td>\n",
              "      <td>northfield savings bank begins operation new n...</td>\n",
              "      <td>[northfield, savings, bank, begins, operation,...</td>\n",
              "      <td>[(northfield, savings), (savings, bank), (bank...</td>\n",
              "    </tr>\n",
              "    <tr>\n",
              "      <th>4</th>\n",
              "      <td>1971</td>\n",
              "      <td>NYS Health Dept repts 638,077 children, 26.4% ...</td>\n",
              "      <td>nys health dept repts children population aged...</td>\n",
              "      <td>[nys, health, dept, repts, children, populatio...</td>\n",
              "      <td>[(nys, health), (health, dept), (dept, repts),...</td>\n",
              "    </tr>\n",
              "  </tbody>\n",
              "</table>\n",
              "</div>\n",
              "      <button class=\"colab-df-convert\" onclick=\"convertToInteractive('df-af88a2a5-a8f7-4472-b2e3-be01da2676c1')\"\n",
              "              title=\"Convert this dataframe to an interactive table.\"\n",
              "              style=\"display:none;\">\n",
              "        \n",
              "  <svg xmlns=\"http://www.w3.org/2000/svg\" height=\"24px\"viewBox=\"0 0 24 24\"\n",
              "       width=\"24px\">\n",
              "    <path d=\"M0 0h24v24H0V0z\" fill=\"none\"/>\n",
              "    <path d=\"M18.56 5.44l.94 2.06.94-2.06 2.06-.94-2.06-.94-.94-2.06-.94 2.06-2.06.94zm-11 1L8.5 8.5l.94-2.06 2.06-.94-2.06-.94L8.5 2.5l-.94 2.06-2.06.94zm10 10l.94 2.06.94-2.06 2.06-.94-2.06-.94-.94-2.06-.94 2.06-2.06.94z\"/><path d=\"M17.41 7.96l-1.37-1.37c-.4-.4-.92-.59-1.43-.59-.52 0-1.04.2-1.43.59L10.3 9.45l-7.72 7.72c-.78.78-.78 2.05 0 2.83L4 21.41c.39.39.9.59 1.41.59.51 0 1.02-.2 1.41-.59l7.78-7.78 2.81-2.81c.8-.78.8-2.07 0-2.86zM5.41 20L4 18.59l7.72-7.72 1.47 1.35L5.41 20z\"/>\n",
              "  </svg>\n",
              "      </button>\n",
              "      \n",
              "  <style>\n",
              "    .colab-df-container {\n",
              "      display:flex;\n",
              "      flex-wrap:wrap;\n",
              "      gap: 12px;\n",
              "    }\n",
              "\n",
              "    .colab-df-convert {\n",
              "      background-color: #E8F0FE;\n",
              "      border: none;\n",
              "      border-radius: 50%;\n",
              "      cursor: pointer;\n",
              "      display: none;\n",
              "      fill: #1967D2;\n",
              "      height: 32px;\n",
              "      padding: 0 0 0 0;\n",
              "      width: 32px;\n",
              "    }\n",
              "\n",
              "    .colab-df-convert:hover {\n",
              "      background-color: #E2EBFA;\n",
              "      box-shadow: 0px 1px 2px rgba(60, 64, 67, 0.3), 0px 1px 3px 1px rgba(60, 64, 67, 0.15);\n",
              "      fill: #174EA6;\n",
              "    }\n",
              "\n",
              "    [theme=dark] .colab-df-convert {\n",
              "      background-color: #3B4455;\n",
              "      fill: #D2E3FC;\n",
              "    }\n",
              "\n",
              "    [theme=dark] .colab-df-convert:hover {\n",
              "      background-color: #434B5C;\n",
              "      box-shadow: 0px 1px 3px 1px rgba(0, 0, 0, 0.15);\n",
              "      filter: drop-shadow(0px 1px 2px rgba(0, 0, 0, 0.3));\n",
              "      fill: #FFFFFF;\n",
              "    }\n",
              "  </style>\n",
              "\n",
              "      <script>\n",
              "        const buttonEl =\n",
              "          document.querySelector('#df-af88a2a5-a8f7-4472-b2e3-be01da2676c1 button.colab-df-convert');\n",
              "        buttonEl.style.display =\n",
              "          google.colab.kernel.accessAllowed ? 'block' : 'none';\n",
              "\n",
              "        async function convertToInteractive(key) {\n",
              "          const element = document.querySelector('#df-af88a2a5-a8f7-4472-b2e3-be01da2676c1');\n",
              "          const dataTable =\n",
              "            await google.colab.kernel.invokeFunction('convertToInteractive',\n",
              "                                                     [key], {});\n",
              "          if (!dataTable) return;\n",
              "\n",
              "          const docLinkHtml = 'Like what you see? Visit the ' +\n",
              "            '<a target=\"_blank\" href=https://colab.research.google.com/notebooks/data_table.ipynb>data table notebook</a>'\n",
              "            + ' to learn more about interactive tables.';\n",
              "          element.innerHTML = '';\n",
              "          dataTable['output_type'] = 'display_data';\n",
              "          await google.colab.output.renderOutput(dataTable, element);\n",
              "          const docLink = document.createElement('div');\n",
              "          docLink.innerHTML = docLinkHtml;\n",
              "          element.appendChild(docLink);\n",
              "        }\n",
              "      </script>\n",
              "    </div>\n",
              "  </div>\n",
              "  "
            ]
          },
          "metadata": {},
          "execution_count": 31
        }
      ]
    },
    {
      "cell_type": "code",
      "source": [
        "NYT_1971.dtypes"
      ],
      "metadata": {
        "colab": {
          "base_uri": "https://localhost:8080/"
        },
        "id": "WdKcCH-B4uom",
        "outputId": "7c669105-21e3-4be4-abf3-a887f1c70a88"
      },
      "execution_count": null,
      "outputs": [
        {
          "output_type": "execute_result",
          "data": {
            "text/plain": [
              "year                  category\n",
              "sentence                object\n",
              "sentence processed      object\n",
              "sentence tokenized      object\n",
              "sentence bigrammed      object\n",
              "dtype: object"
            ]
          },
          "metadata": {},
          "execution_count": 30
        }
      ]
    },
    {
      "cell_type": "markdown",
      "source": [
        "For this project, I am concerned with both individual words and bigrams (two words as a group). \n",
        "\n",
        "- Token/Unigram: \n",
        "\n",
        "Single words may have particular meanings in English. To understand this, thinking about the word \"criminal\", which itself tells us a lot of information. With this word, we are able to picture an image of someone committing an unlawful act, A single word could have sentiment and be used to shed light on public opinion. \n",
        "\n",
        "In the first step, I tokenized each article in each dataset and put the list of tokens in a new column named `sentence tokenized`. "
      ],
      "metadata": {
        "id": "Pti0RZVutwyg"
      }
    },
    {
      "cell_type": "code",
      "source": [
        "NYT_1971[\"sentence tokenized\"] = NYT_1971[\"sentence processed\"].str.split(' ')\n",
        "NYT_1989[\"sentence tokenized\"] = NYT_1989[\"sentence processed\"].str.split(' ')\n",
        "NYT_2010[\"sentence tokenized\"] = NYT_2010[\"sentence processed\"].str.split(' ')\n",
        "NYT_2020[\"sentence tokenized\"] = NYT_2020[\"sentence processed\"].str.split(' ')"
      ],
      "metadata": {
        "id": "KeIHwfjc2dra"
      },
      "execution_count": null,
      "outputs": []
    },
    {
      "cell_type": "markdown",
      "source": [
        "- Bigram\n",
        "\n",
        "Words come in pairs usually reveal more information than single words. Still using the example of \"criminal\", phrases \"criminal justice\" and \"criminal sentencing\" go to two distinct directions, although they both share the word \"criminal\". The former could mean a field of study or a principle, whereas, the latter is a judicial and legislative term. Hereby, diving words into bigrams will give us more information about the data.\n",
        "\n",
        "In the following two chunks, I created a function that will rearrange a list of single tokens into a list of bigrams and apply it to our datasets. The new column is called `sentence tokenized`."
      ],
      "metadata": {
        "id": "mW7GucXo5TWp"
      }
    },
    {
      "cell_type": "code",
      "source": [
        "def ngrams(tokens, n=2, sep=' '):\n",
        "    return [sep.join(ngram) for ngram in zip(*[tokens[i:] for i in range(n)])]"
      ],
      "metadata": {
        "id": "0uGPJxAP7LR1"
      },
      "execution_count": null,
      "outputs": []
    },
    {
      "cell_type": "code",
      "source": [
        "NYT_1971['sentence bigrammed'] = NYT_1971['sentence tokenized'].apply(ngrams)\n",
        "NYT_1989['sentence bigrammed'] = NYT_1989['sentence tokenized'].apply(ngrams)\n",
        "NYT_2010['sentence bigrammed'] = NYT_2010['sentence tokenized'].apply(ngrams) # remove all the numbers\n",
        "NYT_2020['sentence bigrammed'] = NYT_2020['sentence tokenized'].apply(ngrams)"
      ],
      "metadata": {
        "id": "T21w21bi3oGY"
      },
      "execution_count": null,
      "outputs": []
    },
    {
      "cell_type": "markdown",
      "source": [
        "Now, let's take another look at our `NYT_1971` data. "
      ],
      "metadata": {
        "id": "noCGty4UCIeH"
      }
    },
    {
      "cell_type": "code",
      "source": [
        "NYT_1971.head(5)"
      ],
      "metadata": {
        "colab": {
          "base_uri": "https://localhost:8080/",
          "height": 206
        },
        "id": "RzAfeTPS_vrN",
        "outputId": "d9ea5953-435a-436e-8817-60c8fd008cd8"
      },
      "execution_count": null,
      "outputs": [
        {
          "output_type": "execute_result",
          "data": {
            "text/plain": [
              "   year                                           sentence  \\\n",
              "0  1971  A Moursund Jr lr on T Winner's Dec 22 (32:4) l...   \n",
              "1  1971  Amer Gas Assn repts gas utility and pipeline i...   \n",
              "2  1971  Dr Spock lr disputes Prof Bickel Dec 21 Op-Ed ...   \n",
              "3  1971  Northfield Savings Bank begins operation under...   \n",
              "4  1971  NYS Health Dept repts 638,077 children, 26.4% ...   \n",
              "\n",
              "                                  sentence processed  \\\n",
              "0  moursund jr lr winner dec lr disputes winner s...   \n",
              "1  amer gas assn repts gas utility pipeline indus...   \n",
              "2  dr spock lr disputes prof bickel dec op ed art...   \n",
              "3  northfield savings bank begins operation new n...   \n",
              "4  nys health dept repts children population aged...   \n",
              "\n",
              "                                  sentence tokenized  \\\n",
              "0  [moursund, jr, lr, winner, dec, lr, disputes, ...   \n",
              "1  [amer, gas, assn, repts, gas, utility, pipelin...   \n",
              "2  [dr, spock, lr, disputes, prof, bickel, dec, o...   \n",
              "3  [northfield, savings, bank, begins, operation,...   \n",
              "4  [nys, health, dept, repts, children, populatio...   \n",
              "\n",
              "                                  sentence bigrammed  \n",
              "0  [moursund jr, jr lr, lr winner, winner dec, de...  \n",
              "1  [amer gas, gas assn, assn repts, repts gas, ga...  \n",
              "2  [dr spock, spock lr, lr disputes, disputes pro...  \n",
              "3  [northfield savings, savings bank, bank begins...  \n",
              "4  [nys health, health dept, dept repts, repts ch...  "
            ],
            "text/html": [
              "\n",
              "  <div id=\"df-9a3a1dca-cdb9-49aa-b7b2-fd88971cc9cb\">\n",
              "    <div class=\"colab-df-container\">\n",
              "      <div>\n",
              "<style scoped>\n",
              "    .dataframe tbody tr th:only-of-type {\n",
              "        vertical-align: middle;\n",
              "    }\n",
              "\n",
              "    .dataframe tbody tr th {\n",
              "        vertical-align: top;\n",
              "    }\n",
              "\n",
              "    .dataframe thead th {\n",
              "        text-align: right;\n",
              "    }\n",
              "</style>\n",
              "<table border=\"1\" class=\"dataframe\">\n",
              "  <thead>\n",
              "    <tr style=\"text-align: right;\">\n",
              "      <th></th>\n",
              "      <th>year</th>\n",
              "      <th>sentence</th>\n",
              "      <th>sentence processed</th>\n",
              "      <th>sentence tokenized</th>\n",
              "      <th>sentence bigrammed</th>\n",
              "    </tr>\n",
              "  </thead>\n",
              "  <tbody>\n",
              "    <tr>\n",
              "      <th>0</th>\n",
              "      <td>1971</td>\n",
              "      <td>A Moursund Jr lr on T Winner's Dec 22 (32:4) l...</td>\n",
              "      <td>moursund jr lr winner dec lr disputes winner s...</td>\n",
              "      <td>[moursund, jr, lr, winner, dec, lr, disputes, ...</td>\n",
              "      <td>[moursund jr, jr lr, lr winner, winner dec, de...</td>\n",
              "    </tr>\n",
              "    <tr>\n",
              "      <th>1</th>\n",
              "      <td>1971</td>\n",
              "      <td>Amer Gas Assn repts gas utility and pipeline i...</td>\n",
              "      <td>amer gas assn repts gas utility pipeline indus...</td>\n",
              "      <td>[amer, gas, assn, repts, gas, utility, pipelin...</td>\n",
              "      <td>[amer gas, gas assn, assn repts, repts gas, ga...</td>\n",
              "    </tr>\n",
              "    <tr>\n",
              "      <th>2</th>\n",
              "      <td>1971</td>\n",
              "      <td>Dr Spock lr disputes Prof Bickel Dec 21 Op-Ed ...</td>\n",
              "      <td>dr spock lr disputes prof bickel dec op ed art...</td>\n",
              "      <td>[dr, spock, lr, disputes, prof, bickel, dec, o...</td>\n",
              "      <td>[dr spock, spock lr, lr disputes, disputes pro...</td>\n",
              "    </tr>\n",
              "    <tr>\n",
              "      <th>3</th>\n",
              "      <td>1971</td>\n",
              "      <td>Northfield Savings Bank begins operation under...</td>\n",
              "      <td>northfield savings bank begins operation new n...</td>\n",
              "      <td>[northfield, savings, bank, begins, operation,...</td>\n",
              "      <td>[northfield savings, savings bank, bank begins...</td>\n",
              "    </tr>\n",
              "    <tr>\n",
              "      <th>4</th>\n",
              "      <td>1971</td>\n",
              "      <td>NYS Health Dept repts 638,077 children, 26.4% ...</td>\n",
              "      <td>nys health dept repts children population aged...</td>\n",
              "      <td>[nys, health, dept, repts, children, populatio...</td>\n",
              "      <td>[nys health, health dept, dept repts, repts ch...</td>\n",
              "    </tr>\n",
              "  </tbody>\n",
              "</table>\n",
              "</div>\n",
              "      <button class=\"colab-df-convert\" onclick=\"convertToInteractive('df-9a3a1dca-cdb9-49aa-b7b2-fd88971cc9cb')\"\n",
              "              title=\"Convert this dataframe to an interactive table.\"\n",
              "              style=\"display:none;\">\n",
              "        \n",
              "  <svg xmlns=\"http://www.w3.org/2000/svg\" height=\"24px\"viewBox=\"0 0 24 24\"\n",
              "       width=\"24px\">\n",
              "    <path d=\"M0 0h24v24H0V0z\" fill=\"none\"/>\n",
              "    <path d=\"M18.56 5.44l.94 2.06.94-2.06 2.06-.94-2.06-.94-.94-2.06-.94 2.06-2.06.94zm-11 1L8.5 8.5l.94-2.06 2.06-.94-2.06-.94L8.5 2.5l-.94 2.06-2.06.94zm10 10l.94 2.06.94-2.06 2.06-.94-2.06-.94-.94-2.06-.94 2.06-2.06.94z\"/><path d=\"M17.41 7.96l-1.37-1.37c-.4-.4-.92-.59-1.43-.59-.52 0-1.04.2-1.43.59L10.3 9.45l-7.72 7.72c-.78.78-.78 2.05 0 2.83L4 21.41c.39.39.9.59 1.41.59.51 0 1.02-.2 1.41-.59l7.78-7.78 2.81-2.81c.8-.78.8-2.07 0-2.86zM5.41 20L4 18.59l7.72-7.72 1.47 1.35L5.41 20z\"/>\n",
              "  </svg>\n",
              "      </button>\n",
              "      \n",
              "  <style>\n",
              "    .colab-df-container {\n",
              "      display:flex;\n",
              "      flex-wrap:wrap;\n",
              "      gap: 12px;\n",
              "    }\n",
              "\n",
              "    .colab-df-convert {\n",
              "      background-color: #E8F0FE;\n",
              "      border: none;\n",
              "      border-radius: 50%;\n",
              "      cursor: pointer;\n",
              "      display: none;\n",
              "      fill: #1967D2;\n",
              "      height: 32px;\n",
              "      padding: 0 0 0 0;\n",
              "      width: 32px;\n",
              "    }\n",
              "\n",
              "    .colab-df-convert:hover {\n",
              "      background-color: #E2EBFA;\n",
              "      box-shadow: 0px 1px 2px rgba(60, 64, 67, 0.3), 0px 1px 3px 1px rgba(60, 64, 67, 0.15);\n",
              "      fill: #174EA6;\n",
              "    }\n",
              "\n",
              "    [theme=dark] .colab-df-convert {\n",
              "      background-color: #3B4455;\n",
              "      fill: #D2E3FC;\n",
              "    }\n",
              "\n",
              "    [theme=dark] .colab-df-convert:hover {\n",
              "      background-color: #434B5C;\n",
              "      box-shadow: 0px 1px 3px 1px rgba(0, 0, 0, 0.15);\n",
              "      filter: drop-shadow(0px 1px 2px rgba(0, 0, 0, 0.3));\n",
              "      fill: #FFFFFF;\n",
              "    }\n",
              "  </style>\n",
              "\n",
              "      <script>\n",
              "        const buttonEl =\n",
              "          document.querySelector('#df-9a3a1dca-cdb9-49aa-b7b2-fd88971cc9cb button.colab-df-convert');\n",
              "        buttonEl.style.display =\n",
              "          google.colab.kernel.accessAllowed ? 'block' : 'none';\n",
              "\n",
              "        async function convertToInteractive(key) {\n",
              "          const element = document.querySelector('#df-9a3a1dca-cdb9-49aa-b7b2-fd88971cc9cb');\n",
              "          const dataTable =\n",
              "            await google.colab.kernel.invokeFunction('convertToInteractive',\n",
              "                                                     [key], {});\n",
              "          if (!dataTable) return;\n",
              "\n",
              "          const docLinkHtml = 'Like what you see? Visit the ' +\n",
              "            '<a target=\"_blank\" href=https://colab.research.google.com/notebooks/data_table.ipynb>data table notebook</a>'\n",
              "            + ' to learn more about interactive tables.';\n",
              "          element.innerHTML = '';\n",
              "          dataTable['output_type'] = 'display_data';\n",
              "          await google.colab.output.renderOutput(dataTable, element);\n",
              "          const docLink = document.createElement('div');\n",
              "          docLink.innerHTML = docLinkHtml;\n",
              "          element.appendChild(docLink);\n",
              "        }\n",
              "      </script>\n",
              "    </div>\n",
              "  </div>\n",
              "  "
            ]
          },
          "metadata": {},
          "execution_count": 65
        }
      ]
    },
    {
      "cell_type": "markdown",
      "source": [
        "One of my goal in this section is to map the most popular words/grams in NYT articles and draw time series graphs to display the usage of words of NYT writers over time. To do that, I started with compiling tokens and bigrams into one single list. I then rearranged them into a pandas dataframe.\n",
        "\n",
        "This is done below:"
      ],
      "metadata": {
        "id": "P06HDcTzCVxa"
      }
    },
    {
      "cell_type": "code",
      "source": [
        "def get_word_lists_nyt(NYT_df):\n",
        "  wordlist_nyt = []\n",
        "  num_article_yr = NYT_df.shape[0]\n",
        "  for num in range(num_article_yr):\n",
        "    words = NYT_df[\"sentence tokenized\"][num]\n",
        "    for word in words:\n",
        "      wordlist_nyt.append(word)\n",
        "  return wordlist_nyt\n",
        "\n",
        "def get_bigram_lists_nyt(NYT_df):\n",
        "  wordlist_nyt = []\n",
        "  num_article_yr = NYT_df.shape[0]\n",
        "  for num in range(num_article_yr):\n",
        "    words = NYT_df[\"sentence bigrammed\"][num]\n",
        "    for word in words:\n",
        "      wordlist_nyt.append(word)\n",
        "  return wordlist_nyt"
      ],
      "metadata": {
        "id": "Q2YfXZle8Gdr"
      },
      "execution_count": null,
      "outputs": []
    },
    {
      "cell_type": "code",
      "source": [
        "wordlist_nyt_1971 = get_word_lists_nyt(NYT_1971)\n",
        "wordlist_nyt_1989 = get_word_lists_nyt(NYT_1989)\n",
        "wordlist_nyt_2010 = get_word_lists_nyt(NYT_2010)\n",
        "wordlist_nyt_2020 = get_word_lists_nyt(NYT_2020)\n"
      ],
      "metadata": {
        "id": "ghJMnGVM9Ag_"
      },
      "execution_count": null,
      "outputs": []
    },
    {
      "cell_type": "code",
      "source": [
        "bigramlist_nyt_1971 = get_bigram_lists_nyt(NYT_1971)\n",
        "bigramlist_nyt_1989 = get_bigram_lists_nyt(NYT_1989)\n",
        "bigramlist_nyt_2010 = get_bigram_lists_nyt(NYT_2010)\n",
        "bigramlist_nyt_2020 = get_bigram_lists_nyt(NYT_2020)"
      ],
      "metadata": {
        "id": "WM528D9eEHOA"
      },
      "execution_count": null,
      "outputs": []
    },
    {
      "cell_type": "code",
      "source": [
        "NYT_token_dict = {\"Year\": [\"1971\", \"1989\", \"2010\", \"2020\"], \n",
        "                  \"Tokens\": [wordlist_nyt_1971, wordlist_nyt_1989, wordlist_nyt_2010, wordlist_nyt_2020], \n",
        "                  \"Num of Tokens\": [len(wordlist_nyt_1971), len(wordlist_nyt_1989), len(wordlist_nyt_2010), len(wordlist_nyt_2020)], \n",
        "                  \"Bigrams\": [bigramlist_nyt_1971, bigramlist_nyt_1989, bigramlist_nyt_2010, bigramlist_nyt_2020], \n",
        "                  \"Num of Bigrams\": [len(bigramlist_nyt_1971), len(bigramlist_nyt_1989), len(bigramlist_nyt_2010), len(bigramlist_nyt_2020)]}\n",
        "NYT_tokens = pd.DataFrame(data= NYT_token_dict)\n",
        "NYT_tokens[\"Year\"] = NYT_tokens[\"Year\"].astype(\"category\")\n"
      ],
      "metadata": {
        "id": "60CnUcjsAu9a"
      },
      "execution_count": null,
      "outputs": []
    },
    {
      "cell_type": "code",
      "source": [
        "NYT_tokens.dtypes"
      ],
      "metadata": {
        "colab": {
          "base_uri": "https://localhost:8080/"
        },
        "id": "0ovEJ6laC5T_",
        "outputId": "7234cd46-1b54-4fa2-978b-a58f88262019"
      },
      "execution_count": null,
      "outputs": [
        {
          "output_type": "execute_result",
          "data": {
            "text/plain": [
              "Year              category\n",
              "Tokens              object\n",
              "Num of Tokens        int64\n",
              "Bigrams             object\n",
              "Num of Bigrams       int64\n",
              "dtype: object"
            ]
          },
          "metadata": {},
          "execution_count": 70
        }
      ]
    },
    {
      "cell_type": "code",
      "source": [
        "NYT_tokens"
      ],
      "metadata": {
        "colab": {
          "base_uri": "https://localhost:8080/",
          "height": 175
        },
        "id": "_Opo8aZlCc0G",
        "outputId": "a4929f10-4227-478d-adf2-515d0e6ae8f1"
      },
      "execution_count": null,
      "outputs": [
        {
          "output_type": "execute_result",
          "data": {
            "text/plain": [
              "   Year                                             Tokens  Num of Tokens  \\\n",
              "0  1971  [moursund, jr, lr, winner, dec, lr, disputes, ...        2718752   \n",
              "1  1989  [lead, editor, bah, humbug, lead, chile, milit...        2961626   \n",
              "2  2010  [age, digital, imagery, one, man, still, earns...        2028580   \n",
              "3  2020  [president, terrible, toddler, anyone, else, w...         279127   \n",
              "\n",
              "                                             Bigrams  Num of Bigrams  \n",
              "0  [moursund jr, jr lr, lr winner, winner dec, de...         2625362  \n",
              "1  [lead editor, editor bah, bah humbug, lead chi...         2857095  \n",
              "2  [age digital, digital imagery, imagery one, on...         1916132  \n",
              "3  [president terrible, terrible toddler, toddler...          264602  "
            ],
            "text/html": [
              "\n",
              "  <div id=\"df-c6f86e90-4838-4808-9a91-e228a01bddaf\">\n",
              "    <div class=\"colab-df-container\">\n",
              "      <div>\n",
              "<style scoped>\n",
              "    .dataframe tbody tr th:only-of-type {\n",
              "        vertical-align: middle;\n",
              "    }\n",
              "\n",
              "    .dataframe tbody tr th {\n",
              "        vertical-align: top;\n",
              "    }\n",
              "\n",
              "    .dataframe thead th {\n",
              "        text-align: right;\n",
              "    }\n",
              "</style>\n",
              "<table border=\"1\" class=\"dataframe\">\n",
              "  <thead>\n",
              "    <tr style=\"text-align: right;\">\n",
              "      <th></th>\n",
              "      <th>Year</th>\n",
              "      <th>Tokens</th>\n",
              "      <th>Num of Tokens</th>\n",
              "      <th>Bigrams</th>\n",
              "      <th>Num of Bigrams</th>\n",
              "    </tr>\n",
              "  </thead>\n",
              "  <tbody>\n",
              "    <tr>\n",
              "      <th>0</th>\n",
              "      <td>1971</td>\n",
              "      <td>[moursund, jr, lr, winner, dec, lr, disputes, ...</td>\n",
              "      <td>2718752</td>\n",
              "      <td>[moursund jr, jr lr, lr winner, winner dec, de...</td>\n",
              "      <td>2625362</td>\n",
              "    </tr>\n",
              "    <tr>\n",
              "      <th>1</th>\n",
              "      <td>1989</td>\n",
              "      <td>[lead, editor, bah, humbug, lead, chile, milit...</td>\n",
              "      <td>2961626</td>\n",
              "      <td>[lead editor, editor bah, bah humbug, lead chi...</td>\n",
              "      <td>2857095</td>\n",
              "    </tr>\n",
              "    <tr>\n",
              "      <th>2</th>\n",
              "      <td>2010</td>\n",
              "      <td>[age, digital, imagery, one, man, still, earns...</td>\n",
              "      <td>2028580</td>\n",
              "      <td>[age digital, digital imagery, imagery one, on...</td>\n",
              "      <td>1916132</td>\n",
              "    </tr>\n",
              "    <tr>\n",
              "      <th>3</th>\n",
              "      <td>2020</td>\n",
              "      <td>[president, terrible, toddler, anyone, else, w...</td>\n",
              "      <td>279127</td>\n",
              "      <td>[president terrible, terrible toddler, toddler...</td>\n",
              "      <td>264602</td>\n",
              "    </tr>\n",
              "  </tbody>\n",
              "</table>\n",
              "</div>\n",
              "      <button class=\"colab-df-convert\" onclick=\"convertToInteractive('df-c6f86e90-4838-4808-9a91-e228a01bddaf')\"\n",
              "              title=\"Convert this dataframe to an interactive table.\"\n",
              "              style=\"display:none;\">\n",
              "        \n",
              "  <svg xmlns=\"http://www.w3.org/2000/svg\" height=\"24px\"viewBox=\"0 0 24 24\"\n",
              "       width=\"24px\">\n",
              "    <path d=\"M0 0h24v24H0V0z\" fill=\"none\"/>\n",
              "    <path d=\"M18.56 5.44l.94 2.06.94-2.06 2.06-.94-2.06-.94-.94-2.06-.94 2.06-2.06.94zm-11 1L8.5 8.5l.94-2.06 2.06-.94-2.06-.94L8.5 2.5l-.94 2.06-2.06.94zm10 10l.94 2.06.94-2.06 2.06-.94-2.06-.94-.94-2.06-.94 2.06-2.06.94z\"/><path d=\"M17.41 7.96l-1.37-1.37c-.4-.4-.92-.59-1.43-.59-.52 0-1.04.2-1.43.59L10.3 9.45l-7.72 7.72c-.78.78-.78 2.05 0 2.83L4 21.41c.39.39.9.59 1.41.59.51 0 1.02-.2 1.41-.59l7.78-7.78 2.81-2.81c.8-.78.8-2.07 0-2.86zM5.41 20L4 18.59l7.72-7.72 1.47 1.35L5.41 20z\"/>\n",
              "  </svg>\n",
              "      </button>\n",
              "      \n",
              "  <style>\n",
              "    .colab-df-container {\n",
              "      display:flex;\n",
              "      flex-wrap:wrap;\n",
              "      gap: 12px;\n",
              "    }\n",
              "\n",
              "    .colab-df-convert {\n",
              "      background-color: #E8F0FE;\n",
              "      border: none;\n",
              "      border-radius: 50%;\n",
              "      cursor: pointer;\n",
              "      display: none;\n",
              "      fill: #1967D2;\n",
              "      height: 32px;\n",
              "      padding: 0 0 0 0;\n",
              "      width: 32px;\n",
              "    }\n",
              "\n",
              "    .colab-df-convert:hover {\n",
              "      background-color: #E2EBFA;\n",
              "      box-shadow: 0px 1px 2px rgba(60, 64, 67, 0.3), 0px 1px 3px 1px rgba(60, 64, 67, 0.15);\n",
              "      fill: #174EA6;\n",
              "    }\n",
              "\n",
              "    [theme=dark] .colab-df-convert {\n",
              "      background-color: #3B4455;\n",
              "      fill: #D2E3FC;\n",
              "    }\n",
              "\n",
              "    [theme=dark] .colab-df-convert:hover {\n",
              "      background-color: #434B5C;\n",
              "      box-shadow: 0px 1px 3px 1px rgba(0, 0, 0, 0.15);\n",
              "      filter: drop-shadow(0px 1px 2px rgba(0, 0, 0, 0.3));\n",
              "      fill: #FFFFFF;\n",
              "    }\n",
              "  </style>\n",
              "\n",
              "      <script>\n",
              "        const buttonEl =\n",
              "          document.querySelector('#df-c6f86e90-4838-4808-9a91-e228a01bddaf button.colab-df-convert');\n",
              "        buttonEl.style.display =\n",
              "          google.colab.kernel.accessAllowed ? 'block' : 'none';\n",
              "\n",
              "        async function convertToInteractive(key) {\n",
              "          const element = document.querySelector('#df-c6f86e90-4838-4808-9a91-e228a01bddaf');\n",
              "          const dataTable =\n",
              "            await google.colab.kernel.invokeFunction('convertToInteractive',\n",
              "                                                     [key], {});\n",
              "          if (!dataTable) return;\n",
              "\n",
              "          const docLinkHtml = 'Like what you see? Visit the ' +\n",
              "            '<a target=\"_blank\" href=https://colab.research.google.com/notebooks/data_table.ipynb>data table notebook</a>'\n",
              "            + ' to learn more about interactive tables.';\n",
              "          element.innerHTML = '';\n",
              "          dataTable['output_type'] = 'display_data';\n",
              "          await google.colab.output.renderOutput(dataTable, element);\n",
              "          const docLink = document.createElement('div');\n",
              "          docLink.innerHTML = docLinkHtml;\n",
              "          element.appendChild(docLink);\n",
              "        }\n",
              "      </script>\n",
              "    </div>\n",
              "  </div>\n",
              "  "
            ]
          },
          "metadata": {},
          "execution_count": 71
        }
      ]
    },
    {
      "cell_type": "markdown",
      "source": [
        "### Part III: Exploring Data with Explorative Data Analysis (EDA)"
      ],
      "metadata": {
        "id": "YYbfnEfrFo9a"
      }
    },
    {
      "cell_type": "code",
      "source": [
        "from collections import Counter\n",
        "count_word_nyt1971 = Counter(wordlist_nyt_1971)\n",
        "count_word_nyt1989 = Counter(wordlist_nyt_1989)\n",
        "count_word_nyt2010 = Counter(wordlist_nyt_2010)\n",
        "count_word_nyt2020 = Counter(wordlist_nyt_2020)\n",
        "\n",
        "count_bigram_nyt1971 = Counter(bigramlist_nyt_1971)\n",
        "count_bigram_nyt1989 = Counter(bigramlist_nyt_1989)\n",
        "count_bigram_nyt2010 = Counter(bigramlist_nyt_2010)\n",
        "count_bigram_nyt2020 = Counter(bigramlist_nyt_2020)"
      ],
      "metadata": {
        "id": "1oMBINsA-dix"
      },
      "execution_count": 80,
      "outputs": []
    },
    {
      "cell_type": "code",
      "source": [
        "count_bigram_nyt1989.most_common(20)"
      ],
      "metadata": {
        "colab": {
          "base_uri": "https://localhost:8080/"
        },
        "id": "Il_4rHJ6Lxgo",
        "outputId": "6ff56bb4-f6f7-4fc7-a44e-7872df29c012"
      },
      "execution_count": 82,
      "outputs": [
        {
          "output_type": "execute_result",
          "data": {
            "text/plain": [
              "[('net inc', 23013),\n",
              " ('share earns', 22369),\n",
              " ('lead company', 17277),\n",
              " ('company reports', 17251),\n",
              " ('reports earnings', 17248),\n",
              " ('earnings qtr', 15915),\n",
              " ('inc share', 13443),\n",
              " ('sales net', 11182),\n",
              " ('new york', 10782),\n",
              " ('revenue net', 8080),\n",
              " ('net loss', 6885),\n",
              " ('inc b', 6862),\n",
              " ('qtr march', 6502),\n",
              " ('qtr dec', 6380),\n",
              " ('qtr sept', 5996),\n",
              " ('qtr june', 5983),\n",
              " ('b share', 5665),\n",
              " ('otc qtr', 5548),\n",
              " ('rev net', 5272),\n",
              " ('shares outst', 5019)]"
            ]
          },
          "metadata": {},
          "execution_count": 82
        }
      ]
    },
    {
      "cell_type": "markdown",
      "metadata": {
        "id": "M5XPPayrBQQv"
      },
      "source": [
        "#### Part IV: Data Modeling - Clustering and Grouping\n",
        "\n",
        "(comment) unsupervised classification of the understanding of the group we have\n",
        "eg look at word embedding, how they cluster over time --> dive into themes by year: start with looking at word clouds --> know what should I looking for?"
      ]
    },
    {
      "cell_type": "code",
      "execution_count": null,
      "metadata": {
        "id": "gYALcHWrBQQv"
      },
      "outputs": [],
      "source": [
        "data = year_archieves.sample(n = 10000)\n",
        "X = data[\"sentence\"]\n",
        "y = data[\"year\"]\n"
      ]
    },
    {
      "cell_type": "code",
      "execution_count": null,
      "metadata": {
        "id": "L_49eFOGBQQw"
      },
      "outputs": [],
      "source": [
        "X_train, X_test, y_train, y_test = model_selection.train_test_split(X, y, test_size=0.5, random_state=42)"
      ]
    },
    {
      "cell_type": "code",
      "execution_count": null,
      "metadata": {
        "id": "1HMCuukvBQQw",
        "outputId": "6a86b0d4-be9b-4e24-a6f3-b2c86fe2b433"
      },
      "outputs": [
        {
          "data": {
            "text/plain": [
              "21111     Aon, close to settlement with attorneys genera...\n",
              "105288      J. Paul Austin, the retired chairman of the ...\n",
              "12834     GENEVA, March 1&#8212;Stheduled airlines flyin...\n",
              "92958     MILTENBERG-Herman. 97 years young, our dearly ...\n",
              "101651    TheaterWorks in Hartford is now staging “God o...\n",
              "                                ...                        \n",
              "62116     A revamping is expected to take time to lift t...\n",
              "56413     PARIS, May 18 (Reuters) -- Following is the tr...\n",
              "27402     WESTBURY, L. I., April 10&#8212; A last&#8208;...\n",
              "50614     Hundreds of thousands of Rwandan refugees trud...\n",
              "41460     WASHINGTON, June 19 The anti-discrimination la...\n",
              "Name: sentence, Length: 10000, dtype: object"
            ]
          },
          "execution_count": 31,
          "metadata": {},
          "output_type": "execute_result"
        }
      ],
      "source": [
        "data[\"sentence\"]\n"
      ]
    }
  ],
  "metadata": {
    "interpreter": {
      "hash": "edb0ae1b0804fecb4fba6143541e04fd53a8019f59627cebc4dcfa9f7a439118"
    },
    "kernelspec": {
      "display_name": "Python 3.8.10 64-bit (windows store)",
      "language": "python",
      "name": "python3"
    },
    "language_info": {
      "codemirror_mode": {
        "name": "ipython",
        "version": 3
      },
      "file_extension": ".py",
      "mimetype": "text/x-python",
      "name": "python",
      "nbconvert_exporter": "python",
      "pygments_lexer": "ipython3",
      "version": "3.8.10"
    },
    "orig_nbformat": 4,
    "colab": {
      "name": "project.ipynb",
      "provenance": [],
      "collapsed_sections": [],
      "include_colab_link": true
    }
  },
  "nbformat": 4,
  "nbformat_minor": 0
}